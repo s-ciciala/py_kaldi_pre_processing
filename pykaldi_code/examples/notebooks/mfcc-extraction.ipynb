{
 "cells": [
  {
   "cell_type": "markdown",
   "metadata": {},
   "source": [
    "# Extract MFCC features\n",
    "This notebook shows how to use pykaldi to extract MFCC features from a wav file.\n",
    "It also serves as an example for numpy and scikit-learn integration."
   ]
  },
  {
   "cell_type": "markdown",
   "metadata": {},
   "source": [
    "We begin by importing all the necesary components from pykaldi, numpy and sklearn. If you haven't done so, you'll need to install them in your system. You can install numpy and scikit using __pip__ (i.e., `pip install numpy scikit-learn`). For installation of pykaldi, please follow the [instructions](https://github.com/pykaldi/pykaldi#installation)"
   ]
  },
  {
   "cell_type": "code",
   "execution_count": 1,
   "metadata": {},
   "outputs": [],
   "source": [
    "from kaldi.feat.mfcc import Mfcc, MfccOptions\n",
    "from kaldi.matrix import SubVector, SubMatrix\n",
    "from kaldi.util.options import ParseOptions\n",
    "from kaldi.util.table import SequentialWaveReader\n",
    "from kaldi.util.table import MatrixWriter\n",
    "from numpy import mean\n",
    "from sklearn.preprocessing import scale"
   ]
  },
  {
   "cell_type": "markdown",
   "metadata": {},
   "source": [
    "We create a test scp file with a dummy key and the location of our test wav file. Make sure the location of the test file matches with the location of your pykaldi installation."
   ]
  },
  {
   "cell_type": "code",
   "execution_count": 2,
   "metadata": {},
   "outputs": [],
   "source": [
    "with open(\"testfile.scp\", \"w\") as outpt:\n",
    "    outpt.write(\"TEST /pykaldi/tools/kaldi/src/feat/test_data/test.wav\")"
   ]
  },
  {
   "cell_type": "markdown",
   "metadata": {},
   "source": [
    "PyKaldi option parsing API is slightly different from the underlying Kaldi option parsing API. Command-line options for the main script are registered by calling type-specific registration methods that accept name, default value and help string arguments e.g. \\lstinline{min-duration} in the example. The `parse_args` method of a PyKaldi `ParseOptions` instance returns a simple namespace object containing the parsed option values for the main script. Parsed values for other options are directly written into the appropriate fields of associated options instances, e.g. `mfcc_opts` in the example."
   ]
  },
  {
   "cell_type": "code",
   "execution_count": 3,
   "metadata": {},
   "outputs": [
    {
     "name": "stderr",
     "output_type": "stream",
     "text": [
      "/home/szy/miniconda3/envs/myenv/lib/python3.9/site-packages/ipykernel_launcher.py -f /home/szy/.local/share/jupyter/runtime/kernel-f4413ecd-cbcb-402c-a597-efd51d26253d.json \n"
     ]
    }
   ],
   "source": [
    "usage = \"\"\"Extract MFCC features.\n",
    "           Usage:  example.py [opts...] <rspec> <wspec>\n",
    "        \"\"\"\n",
    "\n",
    "po = ParseOptions(usage)\n",
    "po.register_float(\"min-duration\", 0.0,\n",
    "                  \"minimum segment duration\")\n",
    "mfcc_opts = MfccOptions()\n",
    "mfcc_opts.frame_opts.samp_freq = 8000\n",
    "mfcc_opts.register(po)\n",
    "\n",
    "opts = po.parse_args()"
   ]
  },
  {
   "cell_type": "markdown",
   "metadata": {},
   "source": [
    "In typical Kaldi fashion, input/output tables are constructed with read/write specifiers, strings that describe how the data should be read/written."
   ]
  },
  {
   "cell_type": "code",
   "execution_count": 5,
   "metadata": {},
   "outputs": [],
   "source": [
    "rspec, wspec = \"scp:testfile.scp\", \"ark,t:test_mfcc.ark\""
   ]
  },
  {
   "cell_type": "markdown",
   "metadata": {},
   "source": [
    "Kaldi objects are first class objects in PyKaldi. This allows them to be created, instanciated and passed as arguments to other objects or to functions."
   ]
  },
  {
   "cell_type": "code",
   "execution_count": 6,
   "metadata": {},
   "outputs": [],
   "source": [
    "# Create MFCC object and obtain sample frequency\n",
    "mfcc = Mfcc(mfcc_opts)\n",
    "sf = mfcc_opts.frame_opts.samp_freq"
   ]
  },
  {
   "cell_type": "markdown",
   "metadata": {},
   "source": [
    "PyKaldi table readers/writers implement the context manager interface, hence they do not need to be closed when they are used in a `with` statement. PyKaldi table writers also support a pseudo-dictionary interface for writing given key value pairs. Since PyKaldi matrices implement NumPy array interface, they can be passed to functions expecting Numpy array arguments, such as `mean` and `scale`, without explicit conversion. The NumPy arrays returned from functions can be easily converted back to Kaldi vector and matrix types by constructing new `SubVector` and `SubMatrix` objects which share the underlying memory buffers with the source arrays whenever possible, i.e. no data is copied unless necessary."
   ]
  },
  {
   "cell_type": "code",
   "execution_count": 7,
   "metadata": {},
   "outputs": [
    {
     "name": "stderr",
     "output_type": "stream",
     "text": [
      "WARNING (ipykernel_launcher.py[5.5.950~1-085be]:EnsureObjectLoaded():util/kaldi-table-inl.h:310) Failed to open file /pykaldi/tools/kaldi/src/feat/test_data/test.wav\n",
      "ERROR (ipykernel_launcher.py[5.5.950~1-085be]:Value():util/kaldi-table-inl.h:164) Failed to load object from /pykaldi/tools/kaldi/src/feat/test_data/test.wav (to suppress this error, add the permissive (p, ) option to the rspecifier.\n"
     ]
    },
    {
     "ename": "RuntimeError",
     "evalue": "C++ exception: kaldi::KaldiFatalError",
     "output_type": "error",
     "traceback": [
      "\u001b[0;31m---------------------------------------------------------------------------\u001b[0m",
      "\u001b[0;31mRuntimeError\u001b[0m                              Traceback (most recent call last)",
      "Cell \u001b[0;32mIn[7], line 4\u001b[0m\n\u001b[1;32m      1\u001b[0m \u001b[38;5;28;01mwith\u001b[39;00m SequentialWaveReader(rspec) \u001b[38;5;28;01mas\u001b[39;00m reader, \\\n\u001b[1;32m      2\u001b[0m              MatrixWriter(wspec) \u001b[38;5;28;01mas\u001b[39;00m writer:\n\u001b[0;32m----> 4\u001b[0m     \u001b[38;5;28;01mfor\u001b[39;00m key, wav \u001b[38;5;129;01min\u001b[39;00m reader:\n\u001b[1;32m      5\u001b[0m         \u001b[38;5;28;01mif\u001b[39;00m wav\u001b[38;5;241m.\u001b[39mduration \u001b[38;5;241m<\u001b[39m opts\u001b[38;5;241m.\u001b[39mmin_duration:\n\u001b[1;32m      6\u001b[0m             \u001b[38;5;28;01mcontinue\u001b[39;00m\n",
      "File \u001b[0;32m~/miniconda3/envs/myenv/lib/python3.9/site-packages/pykaldi-0.2.2-py3.9-linux-x86_64.egg/kaldi/util/table.py:52\u001b[0m, in \u001b[0;36m_SequentialReaderBase.__iter__\u001b[0;34m(self)\u001b[0m\n\u001b[1;32m     50\u001b[0m \u001b[38;5;28;01mwhile\u001b[39;00m \u001b[38;5;129;01mnot\u001b[39;00m \u001b[38;5;28mself\u001b[39m\u001b[38;5;241m.\u001b[39mdone():\n\u001b[1;32m     51\u001b[0m     key \u001b[38;5;241m=\u001b[39m \u001b[38;5;28mself\u001b[39m\u001b[38;5;241m.\u001b[39mkey()\n\u001b[0;32m---> 52\u001b[0m     value \u001b[38;5;241m=\u001b[39m \u001b[38;5;28;43mself\u001b[39;49m\u001b[38;5;241;43m.\u001b[39;49m\u001b[43mvalue\u001b[49m\u001b[43m(\u001b[49m\u001b[43m)\u001b[49m\n\u001b[1;32m     53\u001b[0m     \u001b[38;5;28mself\u001b[39m\u001b[38;5;241m.\u001b[39mnext()\n\u001b[1;32m     54\u001b[0m     \u001b[38;5;28;01myield\u001b[39;00m key, value\n",
      "File \u001b[0;32m~/miniconda3/envs/myenv/lib/python3.9/site-packages/pykaldi-0.2.2-py3.9-linux-x86_64.egg/kaldi/util/table.py:110\u001b[0m, in \u001b[0;36m_SequentialReaderBase.value\u001b[0;34m(self)\u001b[0m\n\u001b[1;32m    101\u001b[0m \u001b[38;5;28;01mdef\u001b[39;00m \u001b[38;5;21mvalue\u001b[39m(\u001b[38;5;28mself\u001b[39m):\n\u001b[1;32m    102\u001b[0m     \u001b[38;5;124;03m\"\"\"Returns the current value.\u001b[39;00m\n\u001b[1;32m    103\u001b[0m \n\u001b[1;32m    104\u001b[0m \u001b[38;5;124;03m    This method is provided for compatibility with the C++ API only;\u001b[39;00m\n\u001b[0;32m   (...)\u001b[0m\n\u001b[1;32m    108\u001b[0m \u001b[38;5;124;03m        The current value.\u001b[39;00m\n\u001b[1;32m    109\u001b[0m \u001b[38;5;124;03m    \"\"\"\u001b[39;00m\n\u001b[0;32m--> 110\u001b[0m     \u001b[38;5;28;01mreturn\u001b[39;00m \u001b[38;5;28;43msuper\u001b[39;49m\u001b[43m(\u001b[49m\u001b[43m_SequentialReaderBase\u001b[49m\u001b[43m,\u001b[49m\u001b[43m \u001b[49m\u001b[38;5;28;43mself\u001b[39;49m\u001b[43m)\u001b[49m\u001b[38;5;241;43m.\u001b[39;49m\u001b[43mvalue\u001b[49m\u001b[43m(\u001b[49m\u001b[43m)\u001b[49m\n",
      "\u001b[0;31mRuntimeError\u001b[0m: C++ exception: kaldi::KaldiFatalError"
     ]
    }
   ],
   "source": [
    "with SequentialWaveReader(rspec) as reader, \\\n",
    "             MatrixWriter(wspec) as writer:\n",
    "            \n",
    "    for key, wav in reader:\n",
    "        if wav.duration < opts.min_duration:\n",
    "            continue\n",
    "                    \n",
    "        assert(wav.samp_freq >= sf)\n",
    "        assert(wav.samp_freq % sf == 0)\n",
    "\n",
    "        print(\">>> print(wav.sample_freq)\")\n",
    "        print(wav.samp_freq)\n",
    "        print()\n",
    "        \n",
    "        s = wav.data()\n",
    "        print(\">>> print(s)\")\n",
    "        print(s)\n",
    "        print()\n",
    "        \n",
    "        # downsample to sf [default=8kHz]\n",
    "        s = s[:,::int(wav.samp_freq / sf)]\n",
    "\n",
    "        # mix-down stereo to mono\n",
    "        m = SubVector(mean(s, axis=0))\n",
    "\n",
    "        # compute MFCC features\n",
    "        f = mfcc.compute_features(m, sf, 1.0)\n",
    "\n",
    "        # standardize features\n",
    "        f = SubMatrix(scale(f))\n",
    "        print(\">>> print(f)\")\n",
    "        print(f)\n",
    "        print()\n",
    "        \n",
    "        # write features to archive\n",
    "        writer[key] = f"
   ]
  },
  {
   "cell_type": "code",
   "execution_count": null,
   "metadata": {},
   "outputs": [],
   "source": []
  }
 ],
 "metadata": {
  "kernelspec": {
   "display_name": "Python 3 (ipykernel)",
   "language": "python",
   "name": "python3"
  },
  "language_info": {
   "codemirror_mode": {
    "name": "ipython",
    "version": 3
   },
   "file_extension": ".py",
   "mimetype": "text/x-python",
   "name": "python",
   "nbconvert_exporter": "python",
   "pygments_lexer": "ipython3",
   "version": "3.9.16"
  }
 },
 "nbformat": 4,
 "nbformat_minor": 2
}
