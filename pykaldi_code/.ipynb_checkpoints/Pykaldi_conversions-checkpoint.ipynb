{
 "cells": [
  {
   "cell_type": "code",
   "execution_count": 15,
   "id": "437833f6",
   "metadata": {},
   "outputs": [],
   "source": [
    "import os\n",
    "from os import listdir\n",
    "from os.path import isfile, join\n",
    "\n",
    "path_to_data = \"/home/szy/Documents/pykaldi_pre_processing/LRS3\"\n",
    "all_data = [entry.path for entry in os.scandir(path_to_data) if entry.is_dir()]\n",
    "\n",
    "training_data_dir = \"/home/szy/Documents/pykaldi_pre_processing/LRS3/train_mini\"\n",
    "test_data_dir = \"/home/szy/Documents/pykaldi_pre_processing/LRS3/test_mini\"\n",
    "\n",
    "training_data_roots = [entry.path for entry in os.scandir(training_data_dir) if entry.is_dir()]\n",
    "test_data_roots = [entry.path for entry in os.scandir(test_data_dir) if entry.is_dir()]"
   ]
  },
  {
   "cell_type": "code",
   "execution_count": 16,
   "id": "9e593814",
   "metadata": {},
   "outputs": [
    {
     "data": {
      "text/plain": [
       "['/home/szy/Documents/pykaldi_pre_processing/LRS3/train_mini/0GL5r3HVAZ0',\n",
       " '/home/szy/Documents/pykaldi_pre_processing/LRS3/train_mini/0akiEFwtkyA',\n",
       " '/home/szy/Documents/pykaldi_pre_processing/LRS3/train_mini/0hzSUUdTDUA',\n",
       " '/home/szy/Documents/pykaldi_pre_processing/LRS3/train_mini/0D9QIG36J9Q',\n",
       " '/home/szy/Documents/pykaldi_pre_processing/LRS3/train_mini/0FkuRwU8HFc',\n",
       " '/home/szy/Documents/pykaldi_pre_processing/LRS3/train_mini/0ITHlySbhJE',\n",
       " '/home/szy/Documents/pykaldi_pre_processing/LRS3/train_mini/0bop3D7SdDM',\n",
       " '/home/szy/Documents/pykaldi_pre_processing/LRS3/train_mini/0JGarsZE1rk',\n",
       " '/home/szy/Documents/pykaldi_pre_processing/LRS3/train_mini/0iTehgSOZ8A',\n",
       " '/home/szy/Documents/pykaldi_pre_processing/LRS3/train_mini/0Amg53UuRqE',\n",
       " '/home/szy/Documents/pykaldi_pre_processing/LRS3/train_mini/0FOlwct8k9M',\n",
       " '/home/szy/Documents/pykaldi_pre_processing/LRS3/train_mini/0Bhk65bYSI0',\n",
       " '/home/szy/Documents/pykaldi_pre_processing/LRS3/train_mini/0af00UcTOSc',\n",
       " '/home/szy/Documents/pykaldi_pre_processing/LRS3/train_mini/0FQXicAGy5U',\n",
       " '/home/szy/Documents/pykaldi_pre_processing/LRS3/train_mini/0d6iSvF1UmA',\n",
       " '/home/szy/Documents/pykaldi_pre_processing/LRS3/train_mini/0jmST6bSUoc',\n",
       " '/home/szy/Documents/pykaldi_pre_processing/LRS3/train_mini/0HYakD8XQ88',\n",
       " '/home/szy/Documents/pykaldi_pre_processing/LRS3/train_mini/0C5UQbWzwg8',\n",
       " '/home/szy/Documents/pykaldi_pre_processing/LRS3/train_mini/00j9bKdiOjk',\n",
       " '/home/szy/Documents/pykaldi_pre_processing/LRS3/train_mini/0HEXx3SP8kk']"
      ]
     },
     "execution_count": 16,
     "metadata": {},
     "output_type": "execute_result"
    }
   ],
   "source": [
    "training_data_roots"
   ]
  },
  {
   "cell_type": "code",
   "execution_count": 19,
   "id": "67312b25",
   "metadata": {},
   "outputs": [
    {
     "ename": "AttributeError",
     "evalue": "'NoneType' object has no attribute 'append'",
     "output_type": "error",
     "traceback": [
      "\u001b[0;31m---------------------------------------------------------------------------\u001b[0m",
      "\u001b[0;31mAttributeError\u001b[0m                            Traceback (most recent call last)",
      "\u001b[0;32m<ipython-input-19-2a0dca410c16>\u001b[0m in \u001b[0;36m<module>\u001b[0;34m\u001b[0m\n\u001b[1;32m      7\u001b[0m \u001b[0;32mfor\u001b[0m \u001b[0mexample\u001b[0m \u001b[0;32min\u001b[0m \u001b[0mtraining_data_roots\u001b[0m\u001b[0;34m:\u001b[0m\u001b[0;34m\u001b[0m\u001b[0;34m\u001b[0m\u001b[0m\n\u001b[1;32m      8\u001b[0m     \u001b[0mexample_data\u001b[0m \u001b[0;34m=\u001b[0m \u001b[0;34m[\u001b[0m\u001b[0mf\u001b[0m \u001b[0;32mfor\u001b[0m \u001b[0mf\u001b[0m \u001b[0;32min\u001b[0m \u001b[0mlistdir\u001b[0m\u001b[0;34m(\u001b[0m\u001b[0mexample\u001b[0m\u001b[0;34m)\u001b[0m \u001b[0;32mif\u001b[0m \u001b[0misfile\u001b[0m\u001b[0;34m(\u001b[0m\u001b[0mjoin\u001b[0m\u001b[0;34m(\u001b[0m\u001b[0mexample\u001b[0m\u001b[0;34m,\u001b[0m \u001b[0mf\u001b[0m\u001b[0;34m)\u001b[0m\u001b[0;34m)\u001b[0m\u001b[0;34m]\u001b[0m\u001b[0;34m\u001b[0m\u001b[0;34m\u001b[0m\u001b[0m\n\u001b[0;32m----> 9\u001b[0;31m     \u001b[0mtraining_data\u001b[0m\u001b[0;34m[\u001b[0m\u001b[0;34m\"folder\"\u001b[0m\u001b[0;34m]\u001b[0m \u001b[0;34m=\u001b[0m \u001b[0mtraining_data\u001b[0m\u001b[0;34m[\u001b[0m\u001b[0;34m\"folder\"\u001b[0m\u001b[0;34m]\u001b[0m\u001b[0;34m.\u001b[0m\u001b[0mappend\u001b[0m\u001b[0;34m(\u001b[0m\u001b[0mexample\u001b[0m\u001b[0;34m)\u001b[0m\u001b[0;34m\u001b[0m\u001b[0;34m\u001b[0m\u001b[0m\n\u001b[0m\u001b[1;32m     10\u001b[0m     \u001b[0mtraining_data\u001b[0m\u001b[0;34m[\u001b[0m\u001b[0;34m\"data\"\u001b[0m\u001b[0;34m]\u001b[0m \u001b[0;34m=\u001b[0m   \u001b[0mtraining_data\u001b[0m\u001b[0;34m[\u001b[0m\u001b[0;34m\"data\"\u001b[0m\u001b[0;34m]\u001b[0m\u001b[0;34m.\u001b[0m\u001b[0mappend\u001b[0m\u001b[0;34m(\u001b[0m\u001b[0mexample_data\u001b[0m\u001b[0;34m)\u001b[0m\u001b[0;34m\u001b[0m\u001b[0;34m\u001b[0m\u001b[0m\n",
      "\u001b[0;31mAttributeError\u001b[0m: 'NoneType' object has no attribute 'append'"
     ]
    }
   ],
   "source": [
    "training_data = {\n",
    "    \"folder\"  : [\"\"],\n",
    "    \"data\" : []\n",
    "}\n",
    "\n",
    "##Training Data\n",
    "for example in training_data_roots:\n",
    "    example_data = [f for f in listdir(example) if isfile(join(example, f))]\n",
    "#     training_data[\"folder\"] = training_data[\"folder\"].append(example)\n",
    "    training_data[\"folder\"] = training_data[\"folder\"].append(example)\n",
    "#     training_data[\"data\"] =   training_data[\"data\"].append(example_data)"
   ]
  },
  {
   "cell_type": "code",
   "execution_count": 22,
   "id": "43c348a2",
   "metadata": {},
   "outputs": [
    {
     "name": "stdout",
     "output_type": "stream",
     "text": [
      "None\n"
     ]
    }
   ],
   "source": [
    "print(training_data[\"folder\"])"
   ]
  },
  {
   "cell_type": "code",
   "execution_count": null,
   "id": "c5c9c407",
   "metadata": {},
   "outputs": [],
   "source": []
  },
  {
   "cell_type": "code",
   "execution_count": null,
   "id": "c700a183",
   "metadata": {},
   "outputs": [],
   "source": []
  },
  {
   "cell_type": "code",
   "execution_count": null,
   "id": "ada5b42b",
   "metadata": {},
   "outputs": [],
   "source": []
  },
  {
   "cell_type": "code",
   "execution_count": null,
   "id": "aabd777a",
   "metadata": {},
   "outputs": [],
   "source": []
  }
 ],
 "metadata": {
  "kernelspec": {
   "display_name": "Python 3",
   "language": "python",
   "name": "python3"
  },
  "language_info": {
   "codemirror_mode": {
    "name": "ipython",
    "version": 3
   },
   "file_extension": ".py",
   "mimetype": "text/x-python",
   "name": "python",
   "nbconvert_exporter": "python",
   "pygments_lexer": "ipython3",
   "version": "3.6.12"
  }
 },
 "nbformat": 4,
 "nbformat_minor": 5
}
