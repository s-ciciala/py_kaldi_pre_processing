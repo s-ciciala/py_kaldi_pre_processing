{
 "cells": [
  {
   "cell_type": "code",
   "execution_count": 1,
   "id": "fb48567a",
   "metadata": {},
   "outputs": [],
   "source": [
    "import os\n",
    "from os import listdir\n",
    "from os.path import isfile, join\n",
    "\n",
    "path_to_data = \"/home/szy/Documents/pykaldi_pre_processing/LRS3\"\n",
    "all_data = [entry.path for entry in os.scandir(path_to_data) if entry.is_dir()]\n",
    "\n",
    "training_data_dir = \"/home/szy/Documents/pykaldi_pre_processing/LRS3/train_mini\"\n",
    "test_data_dir = \"/home/szy/Documents/pykaldi_pre_processing/LRS3/test_mini\"\n",
    "\n",
    "training_data_roots = [entry.path for entry in os.scandir(training_data_dir) if entry.is_dir()]\n",
    "test_data_roots = [entry.path for entry in os.scandir(test_data_dir) if entry.is_dir()]"
   ]
  },
  {
   "cell_type": "code",
   "execution_count": 2,
   "id": "397e911d",
   "metadata": {
    "scrolled": true
   },
   "outputs": [
    {
     "data": {
      "text/plain": [
       "['/home/szy/Documents/pykaldi_pre_processing/LRS3/train_mini/0GL5r3HVAZ0',\n",
       " '/home/szy/Documents/pykaldi_pre_processing/LRS3/train_mini/0akiEFwtkyA',\n",
       " '/home/szy/Documents/pykaldi_pre_processing/LRS3/train_mini/0hzSUUdTDUA',\n",
       " '/home/szy/Documents/pykaldi_pre_processing/LRS3/train_mini/0D9QIG36J9Q',\n",
       " '/home/szy/Documents/pykaldi_pre_processing/LRS3/train_mini/0FkuRwU8HFc',\n",
       " '/home/szy/Documents/pykaldi_pre_processing/LRS3/train_mini/0ITHlySbhJE',\n",
       " '/home/szy/Documents/pykaldi_pre_processing/LRS3/train_mini/0bop3D7SdDM',\n",
       " '/home/szy/Documents/pykaldi_pre_processing/LRS3/train_mini/0JGarsZE1rk',\n",
       " '/home/szy/Documents/pykaldi_pre_processing/LRS3/train_mini/0iTehgSOZ8A',\n",
       " '/home/szy/Documents/pykaldi_pre_processing/LRS3/train_mini/0Amg53UuRqE',\n",
       " '/home/szy/Documents/pykaldi_pre_processing/LRS3/train_mini/0FOlwct8k9M',\n",
       " '/home/szy/Documents/pykaldi_pre_processing/LRS3/train_mini/0Bhk65bYSI0',\n",
       " '/home/szy/Documents/pykaldi_pre_processing/LRS3/train_mini/0af00UcTOSc',\n",
       " '/home/szy/Documents/pykaldi_pre_processing/LRS3/train_mini/0FQXicAGy5U',\n",
       " '/home/szy/Documents/pykaldi_pre_processing/LRS3/train_mini/0d6iSvF1UmA',\n",
       " '/home/szy/Documents/pykaldi_pre_processing/LRS3/train_mini/0jmST6bSUoc',\n",
       " '/home/szy/Documents/pykaldi_pre_processing/LRS3/train_mini/0HYakD8XQ88',\n",
       " '/home/szy/Documents/pykaldi_pre_processing/LRS3/train_mini/0C5UQbWzwg8',\n",
       " '/home/szy/Documents/pykaldi_pre_processing/LRS3/train_mini/00j9bKdiOjk',\n",
       " '/home/szy/Documents/pykaldi_pre_processing/LRS3/train_mini/0HEXx3SP8kk']"
      ]
     },
     "execution_count": 2,
     "metadata": {},
     "output_type": "execute_result"
    }
   ],
   "source": [
    "training_data_roots"
   ]
  },
  {
   "cell_type": "code",
   "execution_count": 3,
   "id": "7598aed3",
   "metadata": {},
   "outputs": [],
   "source": [
    "training_data = {\n",
    "    \"folder\"  : list(),\n",
    "    \"data\" : list()\n",
    "}\n",
    "\n",
    "test_data = {\n",
    "    \"folder\"  : list(),\n",
    "    \"data\" : list()\n",
    "}\n",
    "\n",
    "##Training Data\n",
    "for example in training_data_roots:\n",
    "    example_data = [f for f in listdir(example) if isfile(join(example, f))]\n",
    "    training_data[\"folder\"].append(example)\n",
    "    training_data[\"data\"].append(example_data)\n",
    "\n",
    "##Test Data\n",
    "for example in test_data_roots:\n",
    "    example_data = [f for f in listdir(example) if isfile(join(example, f))]\n",
    "    training_data[\"folder\"].append(example)\n",
    "    training_data[\"data\"].append(example_data)"
   ]
  },
  {
   "cell_type": "code",
   "execution_count": 4,
   "id": "df9fd7a3",
   "metadata": {
    "scrolled": true
   },
   "outputs": [
    {
     "name": "stdout",
     "output_type": "stream",
     "text": [
      "/home/szy/Documents/pykaldi_pre_processing/LRS3/train_mini/0GL5r3HVAZ0\n"
     ]
    }
   ],
   "source": [
    "print(training_data[\"folder\"][0])"
   ]
  },
  {
   "cell_type": "code",
   "execution_count": 5,
   "id": "cc20d7b8",
   "metadata": {
    "scrolled": false
   },
   "outputs": [
    {
     "name": "stdout",
     "output_type": "stream",
     "text": [
      "['50020.mp4', '50010.mp4', '50013.mp4', '50020.txt', '50017.mp4', '50016.txt', '50010.txt', '50013.txt', '50015.txt', '50003.mp4', '50015.mp4', '50021.mp4', '50007.txt', '50009.mp4', '50019.txt', '50006.txt', '50008.txt', '50012.mp4', '50018.txt', '50005.mp4', '50009.txt', '50006.mp4', '50004.txt', '50019.mp4', '50021.txt', '50008.mp4', '50003.txt', '50001.txt', '50017.txt', '50002.mp4', '50001.mp4', '50011.txt', '50011.mp4', '50005.txt', '50012.txt', '50002.txt', '50018.mp4', '50004.mp4', '50016.mp4', '50007.mp4']\n"
     ]
    }
   ],
   "source": [
    "print(training_data[\"data\"][0])"
   ]
  },
  {
   "cell_type": "code",
   "execution_count": 52,
   "id": "82b156b1",
   "metadata": {},
   "outputs": [],
   "source": [
    "####Check the versions of stuff"
   ]
  },
  {
   "cell_type": "code",
   "execution_count": 2,
   "id": "1a3274f1",
   "metadata": {},
   "outputs": [],
   "source": [
    "import subprocess"
   ]
  },
  {
   "cell_type": "code",
   "execution_count": 3,
   "id": "c1e7417c",
   "metadata": {},
   "outputs": [
    {
     "data": {
      "text/plain": [
       "0"
      ]
     },
     "execution_count": 3,
     "metadata": {},
     "output_type": "execute_result"
    }
   ],
   "source": [
    "subprocess.call(['sh', './path.sh']) ##simple shell script and 0 is its return value for this run."
   ]
  },
  {
   "cell_type": "code",
   "execution_count": 6,
   "id": "f7686eca",
   "metadata": {
    "scrolled": true
   },
   "outputs": [
    {
     "name": "stdout",
     "output_type": "stream",
     "text": [
      "Current version of Python is  3.6.12 (default, Oct  9 2020, 11:35:29) \n",
      "[GCC 8.4.0]\n"
     ]
    }
   ],
   "source": [
    "import sys\n",
    "print(\"Current version of Python is \", sys.version)"
   ]
  },
  {
   "cell_type": "code",
   "execution_count": null,
   "id": "0950edc0",
   "metadata": {},
   "outputs": [],
   "source": [
    "####Pykaldi Section"
   ]
  },
  {
   "cell_type": "code",
   "execution_count": 1,
   "id": "0efbd7ff",
   "metadata": {
    "scrolled": false
   },
   "outputs": [],
   "source": [
    "import kaldi"
   ]
  },
  {
   "cell_type": "code",
   "execution_count": 4,
   "id": "95c7c293",
   "metadata": {},
   "outputs": [],
   "source": [
    "from kaldi.matrix import SubVector, SubMatrix\n",
    "from kaldi.util.options import ParseOptions\n",
    "from kaldi.util.table import SequentialWaveReader\n",
    "from kaldi.util.table import MatrixWriter\n",
    "from numpy import mean\n",
    "from sklearn.preprocessing import scale"
   ]
  },
  {
   "cell_type": "code",
   "execution_count": null,
   "id": "366d9704",
   "metadata": {},
   "outputs": [],
   "source": []
  },
  {
   "cell_type": "code",
   "execution_count": null,
   "id": "097f6b33",
   "metadata": {},
   "outputs": [],
   "source": []
  }
 ],
 "metadata": {
  "kernelspec": {
   "display_name": "Python 3 (ipykernel)",
   "language": "python",
   "name": "python3"
  },
  "language_info": {
   "codemirror_mode": {
    "name": "ipython",
    "version": 3
   },
   "file_extension": ".py",
   "mimetype": "text/x-python",
   "name": "python",
   "nbconvert_exporter": "python",
   "pygments_lexer": "ipython3",
   "version": "3.9.16"
  }
 },
 "nbformat": 4,
 "nbformat_minor": 5
}
